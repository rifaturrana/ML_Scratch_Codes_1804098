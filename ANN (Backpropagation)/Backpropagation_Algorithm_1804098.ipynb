{
  "nbformat": 4,
  "nbformat_minor": 0,
  "metadata": {
    "colab": {
      "provenance": []
    },
    "kernelspec": {
      "name": "python3",
      "display_name": "Python 3"
    },
    "language_info": {
      "name": "python"
    }
  },
  "cells": [
    {
      "cell_type": "code",
      "execution_count": null,
      "metadata": {
        "id": "C3Yxy60ZQKMn"
      },
      "outputs": [],
      "source": [
        "import numpy as np\n",
        "def sigmoid(x):\n",
        "    return 1 / (1 + np.exp(-x))\n",
        "def sigmoid_derivative(x):\n",
        "    return x * (1 - x)"
      ]
    },
    {
      "cell_type": "code",
      "source": [
        "def initialize_parameters(input_size, hidden_size, output_size):\n",
        "    np.random.seed(42)\n",
        "    weights_input_hidden = np.random.randn(input_size, hidden_size)\n",
        "    biases_input_hidden = np.zeros((1, hidden_size))\n",
        "    weights_hidden_output = np.random.randn(hidden_size, output_size)\n",
        "    biases_hidden_output = np.zeros((1, output_size))\n",
        "    return weights_input_hidden, biases_input_hidden, weights_hidden_output, biases_hidden_output"
      ],
      "metadata": {
        "id": "aGqirSArREeS"
      },
      "execution_count": null,
      "outputs": []
    },
    {
      "cell_type": "code",
      "source": [
        "def forward_propagation(X, weights_input_hidden, biases_input_hidden, weights_hidden_output, biases_hidden_output):\n",
        "    hidden_layer_output = sigmoid(np.dot(X, weights_input_hidden) + biases_input_hidden)\n",
        "    output_layer_output = sigmoid(np.dot(hidden_layer_output, weights_hidden_output) + biases_hidden_output)\n",
        "    return hidden_layer_output, output_layer_output"
      ],
      "metadata": {
        "id": "qnTstJQARI6v"
      },
      "execution_count": null,
      "outputs": []
    },
    {
      "cell_type": "code",
      "source": [
        "def backpropagation(X, y, hidden_layer_output, output_layer_output, weights_hidden_output):\n",
        "    output_error = y - output_layer_output\n",
        "    output_delta = output_error * sigmoid_derivative(output_layer_output)\n",
        "    hidden_error = np.dot(output_delta, weights_hidden_output.T)\n",
        "    hidden_delta = hidden_error * sigmoid_derivative(hidden_layer_output)\n",
        "    return output_delta, hidden_delta"
      ],
      "metadata": {
        "id": "cJ6JBRECRNKI"
      },
      "execution_count": null,
      "outputs": []
    },
    {
      "cell_type": "code",
      "source": [
        "def train(X, y, learning_rate, num_epochs):\n",
        "    input_size = X.shape[1]\n",
        "    output_size = y.shape[1]\n",
        "    hidden_size = 12\n",
        "    weights_input_hidden, biases_input_hidden, weights_hidden_output, biases_hidden_output = initialize_parameters(input_size, hidden_size, output_size)\n",
        "    for epoch in range(num_epochs):\n",
        "        hidden_layer_output, output_layer_output = forward_propagation(X, weights_input_hidden, biases_input_hidden, weights_hidden_output, biases_hidden_output)\n",
        "        output_delta, hidden_delta = backpropagation(X, y, hidden_layer_output, output_layer_output, weights_hidden_output)\n",
        "        weights_hidden_output += learning_rate * np.dot(hidden_layer_output.T, output_delta)\n",
        "        biases_hidden_output += learning_rate * np.sum(output_delta, axis=0, keepdims=True)\n",
        "        weights_input_hidden += learning_rate * np.dot(X.T, hidden_delta)\n",
        "        biases_input_hidden += learning_rate * np.sum(hidden_delta, axis=0, keepdims=True)\n",
        "    return weights_input_hidden, biases_input_hidden, weights_hidden_output, biases_hidden_output\n"
      ],
      "metadata": {
        "id": "Cx6LzleFRQX9"
      },
      "execution_count": null,
      "outputs": []
    },
    {
      "cell_type": "code",
      "source": [
        "def predict(X, weights_input_hidden, biases_input_hidden, weights_hidden_output, biases_hidden_output):\n",
        "    hidden_layer_input = np.dot(X, weights_input_hidden) + biases_input_hidden\n",
        "    hidden_layer_output = sigmoid(hidden_layer_input)\n",
        "    output_layer_input = np.dot(hidden_layer_output, weights_hidden_output) + biases_hidden_output\n",
        "    output_layer_output = softmax(output_layer_input)\n",
        "    return output_layer_output\n"
      ],
      "metadata": {
        "id": "G3JB9VWWRW1O"
      },
      "execution_count": null,
      "outputs": []
    },
    {
      "cell_type": "code",
      "source": [
        "def softmax(x):\n",
        "    exp_x = np.exp(x - np.max(x, axis=1, keepdims=True))\n",
        "    return exp_x / np.sum(exp_x, axis=1, keepdims=True)\n"
      ],
      "metadata": {
        "id": "d1opLokIEe0p"
      },
      "execution_count": null,
      "outputs": []
    },
    {
      "cell_type": "code",
      "source": [
        "import numpy as np\n",
        "\n",
        "def generate_synthetic_data_with_relation(num_samples, num_features, num_classes):\n",
        "    np.random.seed(42)\n",
        "    features = np.random.randn(num_samples, num_features)\n",
        "    weights = np.random.randn(num_features, num_classes)\n",
        "    logits = np.dot(features, weights)\n",
        "    softmax_probs = np.exp(logits) / np.sum(np.exp(logits), axis=1, keepdims=True)\n",
        "    labels = np.argmax(softmax_probs, axis=1)\n",
        "    return features, labels"
      ],
      "metadata": {
        "id": "wODV5ebmDlCe"
      },
      "execution_count": null,
      "outputs": []
    },
    {
      "cell_type": "code",
      "source": [
        "import numpy as np\n",
        "from sklearn.model_selection import train_test_split\n",
        "from sklearn.preprocessing import OneHotEncoder\n",
        "from sklearn.metrics import confusion_matrix, classification_report\n",
        "\n",
        "\n",
        "num_samples = 1000\n",
        "num_features = 4\n",
        "num_classes = 3\n",
        "X, y = generate_synthetic_data_with_relation(num_samples=num_samples, num_features=num_features, num_classes=num_classes)\n",
        "\n",
        "# One-hot encode the target labels\n",
        "encoder = OneHotEncoder(sparse=False)\n",
        "y_encoded = encoder.fit_transform(y.reshape(-1, 1))\n",
        "\n",
        "# Split the data into training and testing sets\n",
        "X_train, X_test, y_train, y_test = train_test_split(X, y_encoded, test_size=0.2, random_state=42)\n",
        "\n",
        "# Train the neural network\n",
        "learning_rate = 0.1\n",
        "num_epochs = 10000\n",
        "weights_input_hidden, biases_input_hidden, weights_hidden_output, biases_hidden_output = train(X_train, y_train, learning_rate, num_epochs)\n",
        "\n",
        "# Make predictions on the test set\n",
        "predictions = predict(X_test, weights_input_hidden, biases_input_hidden, weights_hidden_output, biases_hidden_output)\n",
        "\n",
        "# Convert predictions to class labels based on maximum value\n",
        "predicted_labels = np.argmax(predictions, axis=1)\n",
        "\n",
        "# Calculate accuracy\n",
        "accuracy = np.mean(predicted_labels == np.argmax(y_test, axis=1))\n",
        "print(f\"Accuracy: {accuracy:.4f}\")\n",
        "\n",
        "# Calculate confusion matrix\n",
        "conf_matrix = confusion_matrix(np.argmax(y_test, axis=1), predicted_labels)\n",
        "print(\"Confusion Matrix:\")\n",
        "print(conf_matrix)\n",
        "\n",
        "class_labels = [f\"Class {i}\" for i in range(num_classes)]\n",
        "classification_rep = classification_report(np.argmax(y_test, axis=1), predicted_labels, target_names=class_labels)\n",
        "print(\"Classification Report:\")\n",
        "print(classification_rep)\n"
      ],
      "metadata": {
        "colab": {
          "base_uri": "https://localhost:8080/"
        },
        "id": "F2hds515RaFX",
        "outputId": "9722a4aa-0763-4a53-d769-d17640518833"
      },
      "execution_count": null,
      "outputs": [
        {
          "output_type": "stream",
          "name": "stderr",
          "text": [
            "/usr/local/lib/python3.10/dist-packages/sklearn/preprocessing/_encoders.py:868: FutureWarning: `sparse` was renamed to `sparse_output` in version 1.2 and will be removed in 1.4. `sparse_output` is ignored unless you leave `sparse` to its default value.\n",
            "  warnings.warn(\n"
          ]
        },
        {
          "output_type": "stream",
          "name": "stdout",
          "text": [
            "Accuracy: 0.8750\n",
            "Confusion Matrix:\n",
            "[[70  0  0]\n",
            " [ 6 33 19]\n",
            " [ 0  0 72]]\n",
            "Classification Report:\n",
            "              precision    recall  f1-score   support\n",
            "\n",
            "     Class 0       0.92      1.00      0.96        70\n",
            "     Class 1       1.00      0.57      0.73        58\n",
            "     Class 2       0.79      1.00      0.88        72\n",
            "\n",
            "    accuracy                           0.88       200\n",
            "   macro avg       0.90      0.86      0.86       200\n",
            "weighted avg       0.90      0.88      0.86       200\n",
            "\n"
          ]
        }
      ]
    },
    {
      "cell_type": "code",
      "source": [
        "import matplotlib.pyplot as plt\n",
        "import seaborn as sns\n",
        "plt.figure(figsize=(8, 6))\n",
        "sns.heatmap(conf_matrix, annot=True, fmt=\"d\", cmap=\"Blues\", xticklabels=class_labels, yticklabels=class_labels)\n",
        "plt.xlabel('Predicted')\n",
        "plt.ylabel('True')\n",
        "plt.title('Confusion Matrix')\n",
        "plt.show()"
      ],
      "metadata": {
        "colab": {
          "base_uri": "https://localhost:8080/",
          "height": 564
        },
        "id": "TNBH80rGjW3A",
        "outputId": "a821a392-785a-4c8f-c747-7a74792e2a91"
      },
      "execution_count": null,
      "outputs": [
        {
          "output_type": "display_data",
          "data": {
            "text/plain": [
              "<Figure size 800x600 with 2 Axes>"
            ],
            "image/png": "[encoded data removed]"
          },
          "metadata": {}
        }
      ]
    }
  ]
}